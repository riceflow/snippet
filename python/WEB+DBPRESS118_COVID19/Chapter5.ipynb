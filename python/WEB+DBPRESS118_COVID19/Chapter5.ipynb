{
 "cells": [
  {
   "cell_type": "markdown",
   "metadata": {
    "id": "uhuAzUYkumKN"
   },
   "source": [
    "# WEB+DB PRESS vol.118 Pythonデータ可視化入門　第3章～第5章\n",
    "\n",
    "## 参考記事  \n",
    "\n",
    "- Pythonデータ可視化入門\n",
    "- 著者：小川英幸さん@ogawahideyuki\n",
    "- ソースコード：https://github.com/mazarimono/webdb_notebook/\n",
    "\n",
    "## 対応章\n",
    "\n",
    "- 第５章　ブラウザで動くダッシュボードの作成"
   ]
  },
  {
   "cell_type": "markdown",
   "metadata": {
    "id": "loIKcjByhPO8"
   },
   "source": [
    "# ブラウザで動くダッシュボードの作成\n",
    "\n",
    "- コンポーネントと呼ばれるツールを組み合わせてDashアプリケーションを作成\n",
    "- これらをうまく組み合わせる事で、インタラクティブなアプリケーションを作成可能\n",
    "\n",
    "## コンポーネントを構成するパッケージ\n",
    "\n",
    "|コンポーネントの種類|概要|\n",
    "|--------------------|----|\n",
    "|Dash HTML Components|HTML要素を作成する|\n",
    "|Dash Core Components|スライダ、ドロップダウン、グラフなどを作成する|\n",
    "|Dash Data Table|インタラクティブなテーブルを作成する|\n",
    "|Dash Bio|バイオインフォマティクス向けグラフを作成する|\n",
    "|Dash DAQ|IoT端末などからデータ収集用ツールを提供する|\n",
    "|Dash Canvas|画像を処理する|\n",
    "|Dash Cytoscape|ネットワークを可視化する|"
   ]
  },
  {
   "cell_type": "code",
   "execution_count": null,
   "metadata": {
    "colab": {
     "base_uri": "https://localhost:8080/"
    },
    "executionInfo": {
     "elapsed": 16976,
     "status": "ok",
     "timestamp": 1604499063845,
     "user": {
      "displayName": "rice flow",
      "photoUrl": "",
      "userId": "08052575573272411663"
     },
     "user_tz": -540
    },
    "id": "qKogri2qmAzR",
    "outputId": "568383c0-39db-411b-dc40-ab791218c3f2"
   },
   "outputs": [
    {
     "name": "stdout",
     "output_type": "stream",
     "text": [
      "Collecting jupyter_dash\n",
      "\u001b[?25l  Downloading https://files.pythonhosted.org/packages/b9/b9/5f9499a0154124a262c85e3a99033b9b3a20dc3d2707b587f52b32b60d76/jupyter_dash-0.3.1-py3-none-any.whl (49kB)\n",
      "\u001b[K     |████████████████████████████████| 51kB 1.7MB/s eta 0:00:011\n",
      "\u001b[?25hCollecting ansi2html\n",
      "  Downloading https://files.pythonhosted.org/packages/b7/f5/0d658908d70cb902609fbb39b9ce891b99e060fa06e98071d369056e346f/ansi2html-1.5.2.tar.gz\n",
      "Requirement already satisfied: requests in /usr/local/lib/python3.6/dist-packages (from jupyter_dash) (2.23.0)\n",
      "Requirement already satisfied: flask in /usr/local/lib/python3.6/dist-packages (from jupyter_dash) (1.1.2)\n",
      "Requirement already satisfied: ipykernel in /usr/local/lib/python3.6/dist-packages (from jupyter_dash) (4.10.1)\n",
      "Requirement already satisfied: ipython in /usr/local/lib/python3.6/dist-packages (from jupyter_dash) (5.5.0)\n",
      "Requirement already satisfied: retrying in /usr/local/lib/python3.6/dist-packages (from jupyter_dash) (1.3.3)\n",
      "Collecting dash\n",
      "\u001b[?25l  Downloading https://files.pythonhosted.org/packages/69/91/ae029886dda55b93b60ac04377bcb2ab9209dd73244e3b5e513124cc6778/dash-1.17.0.tar.gz (75kB)\n",
      "\u001b[K     |████████████████████████████████| 81kB 3.7MB/s \n",
      "\u001b[?25hRequirement already satisfied: six in /usr/local/lib/python3.6/dist-packages (from ansi2html->jupyter_dash) (1.15.0)\n",
      "Requirement already satisfied: chardet<4,>=3.0.2 in /usr/local/lib/python3.6/dist-packages (from requests->jupyter_dash) (3.0.4)\n",
      "Requirement already satisfied: urllib3!=1.25.0,!=1.25.1,<1.26,>=1.21.1 in /usr/local/lib/python3.6/dist-packages (from requests->jupyter_dash) (1.24.3)\n",
      "Requirement already satisfied: certifi>=2017.4.17 in /usr/local/lib/python3.6/dist-packages (from requests->jupyter_dash) (2020.6.20)\n",
      "Requirement already satisfied: idna<3,>=2.5 in /usr/local/lib/python3.6/dist-packages (from requests->jupyter_dash) (2.10)\n",
      "Requirement already satisfied: Jinja2>=2.10.1 in /usr/local/lib/python3.6/dist-packages (from flask->jupyter_dash) (2.11.2)\n",
      "Requirement already satisfied: Werkzeug>=0.15 in /usr/local/lib/python3.6/dist-packages (from flask->jupyter_dash) (1.0.1)\n",
      "Requirement already satisfied: itsdangerous>=0.24 in /usr/local/lib/python3.6/dist-packages (from flask->jupyter_dash) (1.1.0)\n",
      "Requirement already satisfied: click>=5.1 in /usr/local/lib/python3.6/dist-packages (from flask->jupyter_dash) (7.1.2)\n",
      "Requirement already satisfied: tornado>=4.0 in /usr/local/lib/python3.6/dist-packages (from ipykernel->jupyter_dash) (5.1.1)\n",
      "Requirement already satisfied: traitlets>=4.1.0 in /usr/local/lib/python3.6/dist-packages (from ipykernel->jupyter_dash) (4.3.3)\n",
      "Requirement already satisfied: jupyter-client in /usr/local/lib/python3.6/dist-packages (from ipykernel->jupyter_dash) (5.3.5)\n",
      "Requirement already satisfied: prompt-toolkit<2.0.0,>=1.0.4 in /usr/local/lib/python3.6/dist-packages (from ipython->jupyter_dash) (1.0.18)\n",
      "Requirement already satisfied: setuptools>=18.5 in /usr/local/lib/python3.6/dist-packages (from ipython->jupyter_dash) (50.3.2)\n",
      "Requirement already satisfied: pygments in /usr/local/lib/python3.6/dist-packages (from ipython->jupyter_dash) (2.6.1)\n",
      "Requirement already satisfied: pexpect; sys_platform != \"win32\" in /usr/local/lib/python3.6/dist-packages (from ipython->jupyter_dash) (4.8.0)\n",
      "Requirement already satisfied: decorator in /usr/local/lib/python3.6/dist-packages (from ipython->jupyter_dash) (4.4.2)\n",
      "Requirement already satisfied: simplegeneric>0.8 in /usr/local/lib/python3.6/dist-packages (from ipython->jupyter_dash) (0.8.1)\n",
      "Requirement already satisfied: pickleshare in /usr/local/lib/python3.6/dist-packages (from ipython->jupyter_dash) (0.7.5)\n",
      "Collecting flask-compress\n",
      "  Downloading https://files.pythonhosted.org/packages/eb/33/7bcfc1d240bf4cf701cc742716a3af95b9df5b26d605559ea029b6ffa04f/Flask-Compress-1.8.0.tar.gz\n",
      "Requirement already satisfied: plotly in /usr/local/lib/python3.6/dist-packages (from dash->jupyter_dash) (4.12.0)\n",
      "Collecting dash_renderer==1.8.3\n",
      "\u001b[?25l  Downloading https://files.pythonhosted.org/packages/72/fe/59a322edb128ad15205002c7b81e3f5e580f6791c4a100183289e05dbfcb/dash_renderer-1.8.3.tar.gz (1.0MB)\n",
      "\u001b[K     |████████████████████████████████| 1.0MB 25.7MB/s \n",
      "\u001b[?25hCollecting dash-core-components==1.13.0\n",
      "\u001b[?25l  Downloading https://files.pythonhosted.org/packages/52/48/3dd8c7bf93cff3a9dd9d360bc25c4ec0cb191acdce13375c3ff85f98e992/dash_core_components-1.13.0.tar.gz (3.5MB)\n",
      "\u001b[K     |████████████████████████████████| 3.5MB 31.7MB/s \n",
      "\u001b[?25hCollecting dash-html-components==1.1.1\n",
      "\u001b[?25l  Downloading https://files.pythonhosted.org/packages/02/ba/bb9427c62feb25bfbaf243894eeeb4e7c67a92b426ed0575a167100e436e/dash_html_components-1.1.1.tar.gz (188kB)\n",
      "\u001b[K     |████████████████████████████████| 194kB 31.0MB/s \n",
      "\u001b[?25hCollecting dash-table==4.11.0\n",
      "\u001b[?25l  Downloading https://files.pythonhosted.org/packages/bb/46/cc839f897cabea3f584cf59ce9d86a5ea3828e54eefe2537ba8b640a9707/dash_table-4.11.0.tar.gz (1.8MB)\n",
      "\u001b[K     |████████████████████████████████| 1.8MB 34.7MB/s \n",
      "\u001b[?25hRequirement already satisfied: future in /usr/local/lib/python3.6/dist-packages (from dash->jupyter_dash) (0.16.0)\n",
      "Requirement already satisfied: MarkupSafe>=0.23 in /usr/local/lib/python3.6/dist-packages (from Jinja2>=2.10.1->flask->jupyter_dash) (1.1.1)\n",
      "Requirement already satisfied: ipython-genutils in /usr/local/lib/python3.6/dist-packages (from traitlets>=4.1.0->ipykernel->jupyter_dash) (0.2.0)\n",
      "Requirement already satisfied: jupyter-core>=4.6.0 in /usr/local/lib/python3.6/dist-packages (from jupyter-client->ipykernel->jupyter_dash) (4.6.3)\n",
      "Requirement already satisfied: python-dateutil>=2.1 in /usr/local/lib/python3.6/dist-packages (from jupyter-client->ipykernel->jupyter_dash) (2.8.1)\n",
      "Requirement already satisfied: pyzmq>=13 in /usr/local/lib/python3.6/dist-packages (from jupyter-client->ipykernel->jupyter_dash) (19.0.2)\n",
      "Requirement already satisfied: wcwidth in /usr/local/lib/python3.6/dist-packages (from prompt-toolkit<2.0.0,>=1.0.4->ipython->jupyter_dash) (0.2.5)\n",
      "Requirement already satisfied: ptyprocess>=0.5 in /usr/local/lib/python3.6/dist-packages (from pexpect; sys_platform != \"win32\"->ipython->jupyter_dash) (0.6.0)\n",
      "Collecting brotli\n",
      "\u001b[?25l  Downloading https://files.pythonhosted.org/packages/b4/d3/7c98f05b7b9103e2f3a112ba42f269c798155b3e5404fb80bb8f823aaebe/Brotli-1.0.9-cp36-cp36m-manylinux1_x86_64.whl (357kB)\n",
      "\u001b[K     |████████████████████████████████| 358kB 37.8MB/s \n",
      "\u001b[?25hBuilding wheels for collected packages: ansi2html, dash, flask-compress, dash-renderer, dash-core-components, dash-html-components, dash-table\n",
      "  Building wheel for ansi2html (setup.py) ... \u001b[?25l\u001b[?25hdone\n",
      "  Created wheel for ansi2html: filename=ansi2html-1.5.2-cp36-none-any.whl size=13862 sha256=753a0edf383a2c806f8ffa82c9da139d94e7652031b59ae489ce196de2d83a4d\n",
      "  Stored in directory: /root/.cache/pip/wheels/f9/ea/e0/1ed3c3945ce073f930f3e5aa2b9bbadb03cd2efc8f8695cd61\n",
      "  Building wheel for dash (setup.py) ... \u001b[?25l\u001b[?25hdone\n",
      "  Created wheel for dash: filename=dash-1.17.0-cp36-none-any.whl size=83728 sha256=f220b4dea39379b071463f2d1e769d2dc42d1d7f6545e6074c47403b34ad2852\n",
      "  Stored in directory: /root/.cache/pip/wheels/e0/32/13/8a569b638a79cf80a4a721f56040d91198adec28e3bc8123fc\n",
      "  Building wheel for flask-compress (setup.py) ... \u001b[?25l\u001b[?25hdone\n",
      "  Created wheel for flask-compress: filename=Flask_Compress-1.8.0-cp36-none-any.whl size=7215 sha256=b08761820a8a4ee40c4482f7093e4311868ccf296d153b684595c1e49e683092\n",
      "  Stored in directory: /root/.cache/pip/wheels/f9/aa/e9/c4b763ea17eb0662124f67924cbfb9ee0efa83e28f6131baec\n",
      "  Building wheel for dash-renderer (setup.py) ... \u001b[?25l\u001b[?25hdone\n",
      "  Created wheel for dash-renderer: filename=dash_renderer-1.8.3-cp36-none-any.whl size=1013944 sha256=f96349c2cc472c364cc0b9d2374c989467cbfbe82966c43ad528e06b2639476f\n",
      "  Stored in directory: /root/.cache/pip/wheels/cf/2b/5f/0928a6d1b7ebf280f21a2e925f36d662e6ba83e00b82c6b6bf\n",
      "  Building wheel for dash-core-components (setup.py) ... \u001b[?25l\u001b[?25hdone\n",
      "  Created wheel for dash-core-components: filename=dash_core_components-1.13.0-cp36-none-any.whl size=3513142 sha256=52d3bcffc66e50743ab7c4ff663faa05e2a646094de9f0e33de76306e1b7dc03\n",
      "  Stored in directory: /root/.cache/pip/wheels/44/d9/90/177214625a5b5f6440b24ea807550e07fbf439a495eee4dd36\n",
      "  Building wheel for dash-html-components (setup.py) ... \u001b[?25l\u001b[?25hdone\n",
      "  Created wheel for dash-html-components: filename=dash_html_components-1.1.1-cp36-none-any.whl size=427894 sha256=343c6459fb191ca70c566e16ab26f2d334daaea884be5eac9593ea91c12c5b1c\n",
      "  Stored in directory: /root/.cache/pip/wheels/8d/01/46/78e4de185a8a4a2da8ba31da16c52170f036d4cebeeb6e07a2\n",
      "  Building wheel for dash-table (setup.py) ... \u001b[?25l\u001b[?25hdone\n",
      "  Created wheel for dash-table: filename=dash_table-4.11.0-cp36-none-any.whl size=1839767 sha256=582eaa7bd56ced737a89c333639583811e4c1624c18250e418e3c4f3c46fc5e2\n",
      "  Stored in directory: /root/.cache/pip/wheels/ca/37/90/bd45dcc5d6acbe6ac53f753a8f1732ecf5270017372e389cd8\n",
      "Successfully built ansi2html dash flask-compress dash-renderer dash-core-components dash-html-components dash-table\n",
      "Installing collected packages: ansi2html, brotli, flask-compress, dash-renderer, dash-core-components, dash-html-components, dash-table, dash, jupyter-dash\n",
      "Successfully installed ansi2html-1.5.2 brotli-1.0.9 dash-1.17.0 dash-core-components-1.13.0 dash-html-components-1.1.1 dash-renderer-1.8.3 dash-table-4.11.0 flask-compress-1.8.0 jupyter-dash-0.3.1\n"
     ]
    }
   ],
   "source": [
    "# JupyterDashをGoogle Colaboratoryで使える様にする\n",
    "!pip install jupyter_dash"
   ]
  },
  {
   "cell_type": "markdown",
   "metadata": {
    "id": "HePWRW3RkqtY"
   },
   "source": [
    "## HTML要素を作成するパッケージ：Dash HTML Components\n",
    "\n",
    "- Dash HTML ComponentsはすべてのHTMLタグをクラスとして提供するパッケージ\n",
    "- HTMLタグの最初の文字を大文字にしたクラスを提供"
   ]
  },
  {
   "cell_type": "code",
   "execution_count": null,
   "metadata": {
    "id": "0hXsddQjk_NS"
   },
   "outputs": [],
   "source": [
    "# Hello World アプリケーションの作例\n",
    "\n",
    "from jupyter_dash import JupyterDash\n",
    "import dash_html_components as html\n",
    "\n",
    "app = JupyterDash(__name__) # JupyterDashインスタンスを作成\n",
    "app.layout = html.H1('HELLO WEB+DB PRESS')\n",
    "app.run_server(mode='inline') # flaskサーバを起動(通常は8050ポート起動)"
   ]
  },
  {
   "cell_type": "code",
   "execution_count": null,
   "metadata": {
    "id": "8FPsTtZWlYEW"
   },
   "outputs": [],
   "source": [
    "# 複数コンポーネントを組み合わせた作例\n",
    "\n",
    "app = JupyterDash(__name__)\n",
    "app.layout = html.Div([\n",
    "  html.P('Show Image', style={'backgroundColor': 'red', 'color': 'white'}),\n",
    "  html.Img(src='https://3.bp.blogspot.com/--PL6hlrPIPo/Uku_GiUXI6I/AAAAAAAAYuI/aOQxoDd6Oy8/s400/kankou_kinkakuji.png')\n",
    "])\n",
    "app.run_server(mode='inline')"
   ]
  },
  {
   "cell_type": "markdown",
   "metadata": {
    "id": "qBz-RGeGpQit"
   },
   "source": [
    "## ツールを提供するパッケージ：Dash Core Components\n",
    "\n",
    "- ドロップダウンやグラフなどを提供"
   ]
  },
  {
   "cell_type": "code",
   "execution_count": null,
   "metadata": {
    "id": "oZ-HDlHIqbAh"
   },
   "outputs": [],
   "source": [
    "# Graph コンポーネント\n",
    "\n",
    "import dash_core_components as dcc\n",
    "import pandas as pd\n",
    "import plotly.express as px\n",
    "\n",
    "df = pd.read_csv('kakei_data.csv', index_col=0, parse_dates=['date'])\n",
    "app = JupyterDash(__name__)\n",
    "app.layout = html.Div([\n",
    "  html.H1('Graphコンポーネントの利用'),\n",
    "  dcc.Graph(\n",
    "      figure=px.line(\n",
    "          df, x='date', y='スポーツ', title='スポーツ支出'\n",
    "      )\n",
    "  )\n",
    "])\n",
    "app.run_server(mode='inline')"
   ]
  },
  {
   "cell_type": "code",
   "execution_count": null,
   "metadata": {
    "id": "w_u3uv1FrIEH"
   },
   "outputs": [],
   "source": [
    "# Markdown コンポーネント\n",
    "\n",
    "app = JupyterDash(__name__)\n",
    "\n",
    "app.layout = dcc.Markdown('''\n",
    "  # Markdownを使います\n",
    "  ## Dash Components\n",
    "  ### dash html Components\n",
    "  - htmlタグを提供\n",
    "  ### dash core Components\n",
    "  - 様々なツールを提供\n",
    "''', style={\n",
    "    'color': 'green', 'backgroundColor': 'black', 'padding': '2%'\n",
    "})\n",
    "\n",
    "app.run_server(mode='inline')"
   ]
  },
  {
   "cell_type": "code",
   "execution_count": null,
   "metadata": {
    "id": "8_eUlPs-r86N"
   },
   "outputs": [],
   "source": [
    "# 選択 / 入力コンポーネント\n",
    "\n",
    "from datetime import date\n",
    "\n",
    "app = JupyterDash(__name__)\n",
    "four_styles = {\n",
    "    'margin': '3%', \n",
    "    'width': '40%', \n",
    "    'display': 'inline-block', # コンポーネントを横に並べたいため\n",
    "    'verticalAlign': 'top' # コンポーネントの高さを合わせるため\n",
    "}\n",
    "selection = {'tokyo', 'osaka', 'fukuoka'}\n",
    "\n",
    "app.layout = html.Div([\n",
    "    html.Div([dcc.Dropdown(options=[{'value': i, 'label': i} for i in selection], value='tokyo')], style=four_styles),\n",
    "    html.Div([dcc.Input(placeholder='文字を入力してください')], style=four_styles),\n",
    "    html.Div([dcc.DatePickerRange(start_date=date(2017, 12, 18), end_date=date(2020, 6, 22),),], style=four_styles),\n",
    "    html.Div([html.Button('HELLO PUSH ME')], style=four_styles)\n",
    "])\n",
    "\n",
    "app.run_server(mode='inline')"
   ]
  },
  {
   "cell_type": "markdown",
   "metadata": {
    "id": "C-TPwUHkt0w3"
   },
   "source": [
    "## Dashにインタラクティブ要素を与える「コールバック」\n",
    "\n",
    "- インタラクティブ要素を与える機能"
   ]
  },
  {
   "cell_type": "code",
   "execution_count": null,
   "metadata": {
    "colab": {
     "base_uri": "https://localhost:8080/",
     "height": 671
    },
    "executionInfo": {
     "elapsed": 946,
     "status": "ok",
     "timestamp": 1604502995300,
     "user": {
      "displayName": "rice flow",
      "photoUrl": "",
      "userId": "08052575573272411663"
     },
     "user_tz": -540
    },
    "id": "_TIRZacJw0JM",
    "outputId": "95340558-d3dd-4c75-d176-f5bb1586be74"
   },
   "outputs": [
    {
     "data": {
      "application/javascript": [
       "(async (port, path, width, height, cache, element) => {\n",
       "    if (!google.colab.kernel.accessAllowed && !cache) {\n",
       "      return;\n",
       "    }\n",
       "    element.appendChild(document.createTextNode(''));\n",
       "    const url = await google.colab.kernel.proxyPort(port, {cache});\n",
       "    const iframe = document.createElement('iframe');\n",
       "    iframe.src = url + path;\n",
       "    iframe.height = height;\n",
       "    iframe.width = width;\n",
       "    iframe.style.border = 0;\n",
       "    element.appendChild(iframe);\n",
       "  })(8050, \"/\", \"100%\", 650, false, window.element)"
      ],
      "text/plain": [
       "<IPython.core.display.Javascript object>"
      ]
     },
     "metadata": {
      "tags": []
     },
     "output_type": "display_data"
    }
   ],
   "source": [
    "# コールバックの基本的な作り方\n",
    "\n",
    "from dash.dependencies import Input, Output, State\n",
    "app = JupyterDash(__name__)\n",
    "\n",
    "graph_type_list = [px.line, px.scatter, px.bar]\n",
    "\n",
    "app.layout = html.Div([\n",
    "    dcc.Dropdown(\n",
    "        id = 'my_dropdown',\n",
    "        options = [{'label': type_.__name__, 'value': num}\n",
    "            for num, type_ in enumerate(graph_type_list)], \n",
    "            value = 0),\n",
    "    html.Button(\n",
    "        id='my_button',\n",
    "        children='Update Graph' # この場合はボタン名になる\n",
    "    ),\n",
    "    dcc.Graph(\n",
    "        id='my_graph',\n",
    "    ),\n",
    "])\n",
    "\n",
    "# app.callbackデコレータを作成\n",
    "# - Output/Input/Stateに指定するキー名は、描画するHTMLのidに紐づく必要有\n",
    "# - Outputは複数であればリストを設定する必要あるが、InputとStateは単数でもリストを指定する必要有\n",
    "@app.callback(Output('my_graph', 'figure'), # Output:コールバック関数の戻り値の出力先指定\n",
    "              [Input('my_button', 'n_clicks')], # Input:呼び出しを指定\n",
    "              [State('my_dropdown', 'value')]) # State:状態をコンポーネント保持するコンポーネント\n",
    "def update_graph(n_clicks, selected_value): # 関数名と引数名はなんでもいい\n",
    "  return graph_type_list[selected_value](x=[1,2,3,4,5], y=[1,2,3,4,5])\n",
    "\n",
    "app.run_server(mode='inline')"
   ]
  },
  {
   "cell_type": "code",
   "execution_count": null,
   "metadata": {
    "id": "EarqFk6QzQt4"
   },
   "outputs": [],
   "source": []
  }
 ],
 "metadata": {
  "colab": {
   "authorship_tag": "ABX9TyPcl2/8BfOILcRtWS25j7fN",
   "collapsed_sections": [],
   "name": "WebDbPress118_3-5.ipynb",
   "provenance": []
  },
  "kernelspec": {
   "display_name": "Python 3",
   "language": "python",
   "name": "python3"
  },
  "language_info": {
   "codemirror_mode": {
    "name": "ipython",
    "version": 3
   },
   "file_extension": ".py",
   "mimetype": "text/x-python",
   "name": "python",
   "nbconvert_exporter": "python",
   "pygments_lexer": "ipython3",
   "version": "3.9.2"
  }
 },
 "nbformat": 4,
 "nbformat_minor": 4
}
