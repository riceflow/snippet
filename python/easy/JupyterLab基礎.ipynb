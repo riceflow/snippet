{
 "cells": [
  {
   "cell_type": "markdown",
   "id": "comparative-novelty",
   "metadata": {},
   "source": [
    "# JupyterLab基礎"
   ]
  },
  {
   "cell_type": "markdown",
   "id": "personal-static",
   "metadata": {},
   "source": [
    "## セル関連\n",
    "\n",
    "- 移動 j,k\n",
    "- 選択 J,K\n",
    "- 挿入 a,b\n",
    "- 削除 d\n",
    "- コピペ c,x,v\n",
    "- セルタイプ変更 m, y\n",
    "- ドキュメント表示 shift+tab  \n",
    "   y = sum([1, 2, 3]) # sumにカーソルある時にshift+tabでマニュアル閲覧可能\n"
   ]
  },
  {
   "cell_type": "markdown",
   "id": "herbal-worst",
   "metadata": {},
   "source": [
    "## その他\n",
    "\n",
    "- コマンドパレット：shift+command+c\n",
    "- タブの移動：shift+ctrl+]\n",
    "- サイドバーの開閉：ctl+b"
   ]
  },
  {
   "cell_type": "code",
   "execution_count": null,
   "id": "valued-express",
   "metadata": {},
   "outputs": [],
   "source": []
  }
 ],
 "metadata": {
  "kernelspec": {
   "display_name": "Python 3",
   "language": "python",
   "name": "python3"
  },
  "language_info": {
   "codemirror_mode": {
    "name": "ipython",
    "version": 3
   },
   "file_extension": ".py",
   "mimetype": "text/x-python",
   "name": "python",
   "nbconvert_exporter": "python",
   "pygments_lexer": "ipython3",
   "version": "3.9.2"
  }
 },
 "nbformat": 4,
 "nbformat_minor": 5
}
