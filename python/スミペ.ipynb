{
  "nbformat": 4,
  "nbformat_minor": 0,
  "metadata": {
    "colab": {
      "name": "スミペ.ipynb",
      "provenance": [],
      "authorship_tag": "ABX9TyM1EaiH8tbfyze3uqnRtc8F",
      "include_colab_link": true
    },
    "kernelspec": {
      "name": "python3",
      "display_name": "Python 3"
    }
  },
  "cells": [
    {
      "cell_type": "markdown",
      "metadata": {
        "id": "view-in-github",
        "colab_type": "text"
      },
      "source": [
        "<a href=\"https://colab.research.google.com/github/riceflow/snippet/blob/master/python/%E3%82%B9%E3%83%9F%E3%83%9A.ipynb\" target=\"_parent\"><img src=\"https://colab.research.google.com/assets/colab-badge.svg\" alt=\"Open In Colab\"/></a>"
      ]
    },
    {
      "cell_type": "markdown",
      "metadata": {
        "id": "Di9OthfiVQmk"
      },
      "source": [
        "# Python基礎\n",
        "\n",
        "## 関数\n",
        "\n",
        "### 型関連\n",
        "\n",
        "- type(var) #型確認関数\n",
        "- int(var) #文字列→数値\n",
        "- str(var) #数値→文字列\n"
      ]
    },
    {
      "cell_type": "markdown",
      "metadata": {
        "id": "3__Foe0YMSz4"
      },
      "source": [
        "# データフレーム関連\n",
        "\n",
        "## データを一致したものを抽出\n",
        "\n",
        "- df[df['フィールド名'].str.contains('完全一致') # str.containsでブール値取得し、それを再代入\n",
        "- df[df['フィールド名'].str.contains('.*部分一致.*') # 正規表現で書けばOK\n",
        "\n",
        "## インデックスの再作成\n",
        "\n",
        "- df.reset_index(drop=True)\n",
        "- drop=Trueで削除した列には、再度インデックス作成する時には除外(デフォルト：False)\n",
        "- See. [PandasでIndexをリセットするreset_index関数の使い方](https://deepage.net/features/pandas-reset-index.html)\n",
        "\n",
        "## 欠損値の処理\n",
        "\n",
        "- df.dropna() # 欠損値は削除\n",
        "- df.fillna(method='ffill') #欠損値は置換(ffillで前の値と置換、bfillで後の値と置換)\n",
        "- See. [pandasで欠損値NaNを除外（削除）・置換（穴埋め）・抽出](https://note.nkmk.me/python-pandas-nan-dropna-fillna/)"
      ]
    },
    {
      "cell_type": "code",
      "metadata": {
        "id": "HKeKDUMRMnBj"
      },
      "source": [
        ""
      ],
      "execution_count": null,
      "outputs": []
    }
  ]
}