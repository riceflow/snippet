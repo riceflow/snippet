{
  "nbformat": 4,
  "nbformat_minor": 0,
  "metadata": {
    "colab": {
      "name": "ファイル群のナンバリング.ipynb",
      "provenance": [],
      "include_colab_link": true
    },
    "kernelspec": {
      "name": "python3",
      "display_name": "Python 3"
    }
  },
  "cells": [
    {
      "cell_type": "markdown",
      "metadata": {
        "id": "view-in-github",
        "colab_type": "text"
      },
      "source": [
        "<a href=\"https://colab.research.google.com/github/riceflow/snippet/blob/master/%E3%83%95%E3%82%A1%E3%82%A4%E3%83%AB%E7%BE%A4%E3%81%AE%E3%83%8A%E3%83%B3%E3%83%90%E3%83%AA%E3%83%B3%E3%82%B0.ipynb\" target=\"_parent\"><img src=\"https://colab.research.google.com/assets/colab-badge.svg\" alt=\"Open In Colab\"/></a>"
      ]
    },
    {
      "cell_type": "code",
      "metadata": {
        "id": "Mk6PeIl2VMYr"
      },
      "source": [
        "import os\n",
        "import glob\n",
        "tmport tempfile\n",
        "import shutil\n",
        "\n",
        "os.chdir(r'c:\\temp')\n",
        "\n",
        "# ファイルの一覧取得\n",
        "files = glob.glob('*.*')\n",
        "\n",
        "# ソート\n",
        "files2 = sorted(files, key=os.path.getmtime)\n",
        "\n",
        "# リネーム\n",
        "with tempfile.TemporaryDirectory() as tmp:\n",
        "  for f in files2:\n",
        "    shutil.move(f, tmp + '\\\\' + f)\n",
        "  \n",
        "  # ナンバリング\n",
        "  i = 1\n",
        "  for f in files2:\n",
        "    base, ext = os.path.splitext(f)\n",
        "    newfilename = '{:03d}'.format(i) + ext\n",
        "    shutil.move(tmp + '\\\\' + f, newfilename)\n",
        "    i = i + 1"
      ],
      "execution_count": null,
      "outputs": []
    }
  ]
}